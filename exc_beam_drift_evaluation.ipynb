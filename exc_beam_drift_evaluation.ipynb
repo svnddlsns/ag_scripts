{
 "cells": [
  {
   "cell_type": "code",
   "execution_count": null,
   "metadata": {},
   "outputs": [],
   "source": [
    "import h5py\n",
    "import numpy as np\n",
    "from blutils.fit_2dgaussians import fit_gaussian_to_imgs\n",
    "from scipy.optimize import curve_fit\n",
    "from scipy import ndimage as ndi\n",
    "import matplotlib.pyplot as plt\n",
    "from skimage.feature import peak_local_max\n",
    "from skimage import img_as_float\n",
    "from sklearn.metrics import mean_squared_error"
   ]
  },
  {
   "cell_type": "code",
   "execution_count": null,
   "metadata": {},
   "outputs": [],
   "source": [
    "path = r'C:/Users/alba.gomez.segalas/Documents/MF3 measurements/2024-03-01 beam monitor'\n",
    "filename = 'AR2-BR2-AR2-BR2.h5'\n",
    "hf = h5py.File(path + '/' + filename, 'r')"
   ]
  },
  {
   "cell_type": "markdown",
   "metadata": {},
   "source": [
    "### Implementation for general number of maxima ###"
   ]
  },
  {
   "cell_type": "code",
   "execution_count": null,
   "metadata": {},
   "outputs": [],
   "source": [
    "def img_around_peak(image, peak, width):\n",
    "    \"\"\"Return a subimage around the peak, with a given width.\"\"\"\n",
    "    row, col = peak\n",
    "    img = image[row-width//2:row+width//2, col-width//2:col+width//2]\n",
    "    return img\n",
    "\n",
    "def create_cpufit_input(data, num_peaks, coordinates, average, width):\n",
    "    starts = np.arange(0, data.shape[0], average)\n",
    "    slices = np.array([slice(start, start + average) for start in starts])\n",
    "\n",
    "    cpufit_input = np.zeros((len(slices)*num_peaks, width, width), dtype=np.float32)\n",
    "\n",
    "    for i, s in enumerate(slices):\n",
    "        image = np.mean(data[s], axis=0)\n",
    "        for j, peak in enumerate(coordinates):\n",
    "            cpufit_input[i*num_peaks+j] = img_around_peak(image=image, peak=peak, width=width)\n",
    "\n",
    "    return cpufit_input"
   ]
  },
  {
   "cell_type": "code",
   "execution_count": null,
   "metadata": {},
   "outputs": [],
   "source": [
    "# Select first frame of stack\n",
    "image = hf['Stacks/movie'][0].astype(np.float32) \n",
    "image = ndi.gaussian_filter(image, sigma=3)  \n",
    "\n",
    "# Define number of peaks in image\n",
    "num_peaks = 4 \n",
    "\n",
    "# Find coordinates of peaks\n",
    "coordinates = peak_local_max(image, min_distance=10, num_peaks=num_peaks)\n",
    "print(\"Indices of the highest local maxima:\", coordinates)\n",
    "\n",
    "# def peak_coords(image, num_peaks=4):\n",
    "#     \"\"\"Return the coordinates of the highest local maxima in the image.\"\"\"\n",
    "#     image = ndi.gaussian_filter(image, sigma=3)  \n",
    "#     coordinates = peak_local_max(image, min_distance=10, num_peaks=num_peaks)\n",
    "#     return coordinates\n",
    "\n",
    "plt.imshow(image)\n",
    "plt.scatter(coordinates[:, 1], coordinates[:, 0], s=100, c='r', marker='x')\n",
    "\n",
    "width = 20 # width of squared subimage around the peak\n",
    "\n",
    "fig, axs = plt.subplots(1,num_peaks,figsize=(10,10))\n",
    "for i, peak in enumerate(coordinates):\n",
    "    ax = axs[i]\n",
    "    ax.imshow(img_around_peak(image, peak, width))\n",
    "    ax.set_title(f\"Peak {i+1}\")\n",
    "plt.show()"
   ]
  },
  {
   "cell_type": "markdown",
   "metadata": {},
   "source": [
    "### Gaussian CPU fit ###"
   ]
  },
  {
   "cell_type": "code",
   "execution_count": null,
   "metadata": {},
   "outputs": [],
   "source": [
    "# Convert HDF5 dataset to numpy array\n",
    "data = hf['Stacks/movie'][...].astype(np.float32) \n",
    "average = 100\n",
    "width = 20\n",
    "\n",
    "cpufit_input = create_cpufit_input(data, num_peaks=num_peaks, coordinates=coordinates, average=average, width=width)\n",
    "chunk_size = 10\n",
    "parameters, chi_sq = fit_gaussian_to_imgs(cpufit_input, chunk_size=chunk_size)"
   ]
  },
  {
   "cell_type": "markdown",
   "metadata": {},
   "source": [
    "### Fit analysis ###"
   ]
  },
  {
   "cell_type": "code",
   "execution_count": null,
   "metadata": {},
   "outputs": [],
   "source": [
    "def two_dimensional_gaussian(x, y, amplitude, x0, y0, sigma_x, sigma_y, offset):\n",
    "    \"\"\"\n",
    "    Compute a two-dimensional Gaussian function.\n",
    "    \n",
    "    Parameters:\n",
    "    - x, y: 1D arrays representing the x and y coordinates\n",
    "    - amplitude: amplitude of the Gaussian\n",
    "    - x0, y0: center coordinates of the Gaussian\n",
    "    - sigma_x, sigma_y: standard deviations in x and y directions\n",
    "    - offset: amplitude offset\n",
    "    \n",
    "    Returns:\n",
    "    - 2D array representing the computed Gaussian function\n",
    "    \"\"\"\n",
    "    x_term = (x - x0) ** 2 / (2 * sigma_x ** 2)\n",
    "    y_term = (y - y0) ** 2 / (2 * sigma_y ** 2)\n",
    "    gaussian = amplitude * np.exp(-(x_term + y_term)) + offset\n",
    "    return gaussian\n",
    "\n",
    "def two_dimensional_elliptical_gaussian(x, y, amplitude, x0, y0, sigma_x, sigma_y, offset, angle):\n",
    "    \"\"\"\n",
    "    Compute a two-dimensional elliptical Gaussian function.\n",
    "    \n",
    "    Parameters:\n",
    "    - x, y: 1D arrays representing the x and y coordinates\n",
    "    - amplitude: amplitude of the Gaussian\n",
    "    - x0, y0: center coordinates of the Gaussian\n",
    "    - sigma_x, sigma_y: standard deviations in x and y directions\n",
    "    - offset: amplitude offset\n",
    "    - angle: rotation angle in degrees\n",
    "    \n",
    "    Returns:\n",
    "    - 2D array representing the computed elliptical Gaussian function\n",
    "    \"\"\"\n",
    "    angle_rad = angle\n",
    "    # angle_rad = np.deg2rad(angle)\n",
    "    x_rot = (x - x0) * np.cos(angle_rad) - (y - y0) * np.sin(angle_rad)\n",
    "    y_rot = (x - x0) * np.sin(angle_rad) + (y - y0) * np.cos(angle_rad)\n",
    "    gaussian = amplitude * np.exp(-((x_rot / sigma_x) ** 2 + (y_rot / sigma_y) ** 2) / 2) + offset\n",
    "    return gaussian\n",
    "    "
   ]
  },
  {
   "cell_type": "code",
   "execution_count": null,
   "metadata": {},
   "outputs": [],
   "source": [
    "gr = data.shape[0]/average\n",
    "if isinstance(gr, int):\n",
    "    pass\n",
    "else:\n",
    "    gr = int(gr) + 1\n",
    "random_gr = np.random.choice(range(gr))\n",
    "\n",
    "X, Y = np.meshgrid(np.arange(width), np.arange(width))\n",
    "\n",
    "fig, axs = plt.subplots(3, num_peaks, figsize=(15, 15))\n",
    "\n",
    "for i, peak in enumerate(coordinates):\n",
    "    \n",
    "    raw_peak = cpufit_input[i + num_peaks * random_gr]\n",
    "    im0 = axs[0][i].imshow(raw_peak)\n",
    "    axs[0][i].set_title(f\"Raw Peak {i+1}\")\n",
    "    \n",
    "    fit_peak = two_dimensional_gaussian(X, Y, *parameters[i + num_peaks * random_gr][:6])\n",
    "    im1 = axs[1][i].imshow(fit_peak)\n",
    "    axs[1][i].set_title(f\"Fit Peak {i+1}\")\n",
    "    \n",
    "    err = np.abs(raw_peak - fit_peak)/np.max(raw_peak)\n",
    "    im2 = axs[2][i].imshow(err)\n",
    "    axs[2][i].set_title(f\"Residual Peak {i+1}\")\n",
    "    \n",
    "    fig.colorbar(im0, ax=axs[0][i])\n",
    "    fig.colorbar(im1, ax=axs[1][i])\n",
    "    fig.colorbar(im2, ax=axs[2][i])\n",
    "\n",
    "plt.tight_layout()\n",
    "plt.show()\n",
    "\n",
    "# image = raw_peak\n",
    "# plt.imshow(image)\n",
    "# max_point = np.unravel_index(np.argmax(image), image.shape)\n",
    "# plt.plot(max_point[1], max_point[0], 'r+', markersize=10)"
   ]
  },
  {
   "cell_type": "code",
   "execution_count": null,
   "metadata": {},
   "outputs": [],
   "source": [
    "fig, axs = plt.subplots(3, num_peaks, figsize=(15, 15))\n",
    "\n",
    "for i, peak in enumerate(coordinates):\n",
    "    \n",
    "    raw_peak = cpufit_input[i + num_peaks * random_gr]\n",
    "    im0 = axs[0][i].imshow(raw_peak)\n",
    "    axs[0][i].set_title(f\"Raw Peak {i+1}\")\n",
    "    \n",
    "    fit_peak = two_dimensional_elliptical_gaussian(X, Y, *parameters[i + num_peaks * random_gr][:7])\n",
    "    im1 = axs[1][i].imshow(fit_peak)\n",
    "    axs[1][i].set_title(f\"Fit Peak {i+1}\")\n",
    "    \n",
    "    err = np.abs(raw_peak - fit_peak)/np.max(raw_peak)\n",
    "    im2 = axs[2][i].imshow(err)\n",
    "    axs[2][i].set_title(f\"Residual Peak {i+1}\")\n",
    "    \n",
    "    fig.colorbar(im0, ax=axs[0][i])\n",
    "    fig.colorbar(im1, ax=axs[1][i])\n",
    "    fig.colorbar(im2, ax=axs[2][i])\n",
    "\n",
    "plt.tight_layout()\n",
    "plt.show()"
   ]
  },
  {
   "cell_type": "code",
   "execution_count": null,
   "metadata": {},
   "outputs": [],
   "source": [
    "# 1D plots"
   ]
  },
  {
   "cell_type": "markdown",
   "metadata": {},
   "source": [
    "### Drift analysis ###"
   ]
  },
  {
   "cell_type": "code",
   "execution_count": null,
   "metadata": {},
   "outputs": [],
   "source": [
    "plt.figure()\n",
    "plt.plot(parameters[:len(slices), 1], label='x0', linestyle = '-', color='r')\n",
    "plt.plot(parameters[:len(slices), 2], label='y0', linestyle = ':', color='r')\n",
    "plt.plot(parameters[len(slices):, 1], label='x1', linestyle = '-', color='k')\n",
    "plt.plot(parameters[len(slices):, 2], label='y1', linestyle = ':', color='k')\n",
    "plt.legend()\n",
    "plt.show()\n",
    "\n",
    "#TODO plot (x,y) trajectories in 2D plot for each peak, encode time in trace color "
   ]
  },
  {
   "cell_type": "markdown",
   "metadata": {},
   "source": [
    "### Test subparts of CPU fitting code "
   ]
  },
  {
   "cell_type": "code",
   "execution_count": null,
   "metadata": {},
   "outputs": [],
   "source": [
    "nfit = 120\n",
    "chunk_size = 50\n",
    "np.linspace(0,nfit,np.ceil(nfit/chunk_size).astype(int)+1)"
   ]
  },
  {
   "cell_type": "code",
   "execution_count": null,
   "metadata": {},
   "outputs": [],
   "source": []
  }
 ],
 "metadata": {
  "kernelspec": {
   "display_name": "blenv2",
   "language": "python",
   "name": "python3"
  },
  "language_info": {
   "codemirror_mode": {
    "name": "ipython",
    "version": 3
   },
   "file_extension": ".py",
   "mimetype": "text/x-python",
   "name": "python",
   "nbconvert_exporter": "python",
   "pygments_lexer": "ipython3",
   "version": "3.9.17"
  }
 },
 "nbformat": 4,
 "nbformat_minor": 2
}
